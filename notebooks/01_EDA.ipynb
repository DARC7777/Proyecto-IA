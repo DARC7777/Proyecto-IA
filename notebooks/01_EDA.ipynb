{
 "cells": [
  {
   "cell_type": "markdown",
   "id": "885b239c",
   "metadata": {},
   "source": [
    "# 01_EDA v0.1: Análisis Exploratorio de Datos (Robusto)\n",
    "\n",
    "Este notebook realiza un análisis exploratorio exhaustivo de los datos disponibles para el proyecto de detección de fraude financiero. \n",
    "\n",
    "**Objetivos de esta versión 0.1**:\n",
    "1. Cargar y revisar todos los archivos de `data/raw/` (o `data/backup/` si los ligeros no existen en raw).  \n",
    "2. Normalizar tipos (fechas, montos, flags “Yes/No” → 1/0) y revisar datos faltantes.  \n",
    "3. Combinar transacciones con etiquetas de forma correcta (según la estructura real de `train_fraud_labels.json`).  \n",
    "4. Detectar duplicados, outliers y valores inconsistentes.  \n",
    "5. Explorar:\n",
    "   - Distribución de montos (`amount`).  \n",
    "   - Balance de la variable objetivo (`target`).  \n",
    "   - Fraude por estado y ciudad.  \n",
    "   - Fraude por hora del día y día de la semana.  \n",
    "   - Fraude por tipo de tarjeta.  \n",
    "   - Top MCCs donde hay más fraudes.  \n",
    "6. Calcular algunas correlaciones básicas y visualizar mapa de calor.  \n",
    "7. Hacer un pequeño preprocesamiento (generar columna `hour`, flags binarias, parsear fechas).  \n",
    "8. Guardar el dataset combinado limpio en `data/processed/` para la fase de modelado."
   ]
  },
  {
   "cell_type": "code",
   "execution_count": 25,
   "id": "cc78456d",
   "metadata": {},
   "outputs": [],
   "source": [
    "# 2.1 Importar librerías esenciales\n",
    "import os\n",
    "import pandas as pd\n",
    "import numpy as np\n",
    "import matplotlib.pyplot as plt\n",
    "import seaborn as sns\n",
    "import json\n",
    "\n",
    "# 2.2 Estilo para gráficos\n",
    "%matplotlib inline\n",
    "plt.style.use('default')\n",
    "\n",
    "# 2.3 Opciones de pandas para visualización\n",
    "pd.set_option('display.max_columns', None)\n",
    "pd.set_option('display.max_rows', 50)\n",
    "pd.set_option('display.float_format', '{:.2f}'.format)\n",
    "\n",
    "# 2.4 Función auxiliar para inspeccionar cualquier DataFrame\n",
    "def inspeccionar_df(df, nombre):\n",
    "    \"\"\"\n",
    "    Imprime info básica: shape, dtypes, nulos y duplicados de un DataFrame.\n",
    "    \"\"\"\n",
    "    print(f\"\\n--- Inspección de {nombre} ---\")\n",
    "    print(\"Dimensiones:\", df.shape)\n",
    "    print(\"\\nTipos de columnas:\\n\", df.dtypes)\n",
    "    print(\"\\nValores faltantes por columna:\\n\", df.isnull().sum().sort_values(ascending=False))\n",
    "    print(f\"\\nDuplicados exactos (filas idénticas): {df.duplicated().sum()}\")\n",
    "    if \"transaction_id\" in df.columns:\n",
    "        print(\"Duplicados en 'transaction_id':\", df[\"transaction_id\"].duplicated().sum())\n",
    "    print(\"-\" * 60 + \"\\n\")\n",
    "\n",
    "# 2.5 Semilla para reproducibilidad (opcional)\n",
    "import random\n",
    "random.seed(42)\n"
   ]
  },
  {
   "cell_type": "code",
   "execution_count": 29,
   "id": "4d7b3fe2",
   "metadata": {},
   "outputs": [
    {
     "name": "stdout",
     "output_type": "stream",
     "text": [
      "¿Existe el archivo? True\n",
      "✅ 3.2.3 Cargado como JSON Lines.\n",
      "Dimensiones de df_labels: (1, 1)\n"
     ]
    },
    {
     "data": {
      "text/html": [
       "<div>\n",
       "<style scoped>\n",
       "    .dataframe tbody tr th:only-of-type {\n",
       "        vertical-align: middle;\n",
       "    }\n",
       "\n",
       "    .dataframe tbody tr th {\n",
       "        vertical-align: top;\n",
       "    }\n",
       "\n",
       "    .dataframe thead th {\n",
       "        text-align: right;\n",
       "    }\n",
       "</style>\n",
       "<table border=\"1\" class=\"dataframe\">\n",
       "  <thead>\n",
       "    <tr style=\"text-align: right;\">\n",
       "      <th></th>\n",
       "      <th>target</th>\n",
       "    </tr>\n",
       "  </thead>\n",
       "  <tbody>\n",
       "    <tr>\n",
       "      <th>0</th>\n",
       "      <td>{'10649266': 'No', '23410063': 'No', '9316588'...</td>\n",
       "    </tr>\n",
       "  </tbody>\n",
       "</table>\n",
       "</div>"
      ],
      "text/plain": [
       "                                              target\n",
       "0  {'10649266': 'No', '23410063': 'No', '9316588'..."
      ]
     },
     "metadata": {},
     "output_type": "display_data"
    }
   ],
   "source": [
    "path_labels = \"../data/backup/train_fraud_labels.json\"\n",
    "print(\"¿Existe el archivo?\", os.path.exists(path_labels))\n",
    "\n",
    "\n",
    "# 3.2.2 Detectar tipo de estructura: JSONL, lista o dict\n",
    "with open(path_labels, \"r\") as f:\n",
    "    first_line = f.readline().strip()\n",
    "    f.seek(0)  # Volver al inicio del archivo\n",
    "\n",
    "    try:\n",
    "        json.loads(first_line)\n",
    "        is_json_lines = True\n",
    "    except json.JSONDecodeError:\n",
    "        is_json_lines = False\n",
    "\n",
    "\n",
    "# 3.2.3 Cargar el archivo según la estructura detectada\n",
    "try:\n",
    "    if is_json_lines:\n",
    "        df_labels = pd.read_json(path_labels, lines=True)\n",
    "        print(\"✅ 3.2.3 Cargado como JSON Lines.\")\n",
    "    else:\n",
    "        with open(path_labels, \"r\") as f:\n",
    "            raw_data = json.load(f)\n",
    "\n",
    "        if isinstance(raw_data, list):\n",
    "            df_labels = pd.DataFrame(raw_data)\n",
    "            print(\"✅ 3.2.3 Cargado como lista de diccionarios.\")\n",
    "        elif isinstance(raw_data, dict):\n",
    "            df_labels = pd.DataFrame.from_dict(raw_data, orient=\"index\").reset_index()\n",
    "            df_labels.columns = [\"transaction_id\", \"target\"]  # Ajustar si es necesario\n",
    "            print(\"✅ 3.2.3 Cargado como diccionario con IDs.\")\n",
    "        else:\n",
    "            raise ValueError(\"❌ 3.2.3 Estructura JSON no reconocida.\")\n",
    "\n",
    "    print(\"Dimensiones de df_labels:\", df_labels.shape)\n",
    "    display(df_labels.head())\n",
    "\n",
    "except Exception as e:\n",
    "    print(\"❌ 3.2.3 Error durante la carga:\", e)"
   ]
  },
  {
   "cell_type": "code",
   "execution_count": 36,
   "id": "39a1801f",
   "metadata": {},
   "outputs": [
    {
     "name": "stdout",
     "output_type": "stream",
     "text": [
      "\n",
      "--- Inspección de df_transacciones ---\n",
      "Dimensiones: (13305915, 12)\n",
      "\n",
      "Tipos de columnas:\n",
      " id                  int64\n",
      "date               object\n",
      "client_id           int64\n",
      "card_id             int64\n",
      "amount             object\n",
      "use_chip           object\n",
      "merchant_id         int64\n",
      "merchant_city      object\n",
      "merchant_state     object\n",
      "zip               float64\n",
      "mcc                 int64\n",
      "errors             object\n",
      "dtype: object\n",
      "\n",
      "Valores faltantes por columna:\n",
      " errors            13094522\n",
      "zip                1652706\n",
      "merchant_state     1563700\n",
      "id                       0\n",
      "date                     0\n",
      "client_id                0\n",
      "card_id                  0\n",
      "amount                   0\n",
      "use_chip                 0\n",
      "merchant_id              0\n",
      "merchant_city            0\n",
      "mcc                      0\n",
      "dtype: int64\n",
      "\n",
      "Duplicados exactos (filas idénticas): 0\n",
      "------------------------------------------------------------\n",
      "\n",
      "Tipo de raw_labels: <class 'dict'>\n",
      "Claves del diccionario raíz: dict_keys(['target'])\n"
     ]
    }
   ],
   "source": [
    "# 3.3.1 Cargar transactions_data.csv\n",
    "path_transactions = \"../data/backup/transactions_data.csv\"\n",
    "df_transacciones = pd.read_csv(path_transactions)\n",
    "inspeccionar_df(df_transacciones, \"df_transacciones\")\n",
    "\n",
    "# 3.3.2 Cargar train_fraud_labels.json 'bruto'\n",
    "path_labels = \"../data/backup/train_fraud_labels.json\"\n",
    "with open(path_labels, \"r\") as f:\n",
    "    raw_labels = json.load(f)\n",
    "\n",
    "# 3.3.3 Analizar estructura de raw_labels antes de convertirlo\n",
    "print(\"Tipo de raw_labels:\", type(raw_labels))\n",
    "if isinstance(raw_labels, dict):\n",
    "    print(\"Claves del diccionario raíz:\", raw_labels.keys())\n",
    "elif isinstance(raw_labels, list):\n",
    "    print(\"Primeros 5 elementos de la lista raw_labels:\")\n",
    "    display(raw_labels[:5])\n",
    "else:\n",
    "    print(\"Estructura inesperada en raw_labels.\")\n"
   ]
  },
  {
   "cell_type": "code",
   "execution_count": 31,
   "id": "57fe57da",
   "metadata": {},
   "outputs": [
    {
     "data": {
      "text/plain": [
       "dict"
      ]
     },
     "execution_count": 31,
     "metadata": {},
     "output_type": "execute_result"
    }
   ],
   "source": [
    "with open(path_labels, \"r\") as f:\n",
    "    raw_labels = json.load(f)\n",
    "type(raw_labels)\n"
   ]
  },
  {
   "cell_type": "code",
   "execution_count": 37,
   "id": "31c92e21",
   "metadata": {},
   "outputs": [
    {
     "name": "stdout",
     "output_type": "stream",
     "text": [
      "❌ Estructura de raw_labels no corresponde a la esperada en el Caso C.\n"
     ]
    }
   ],
   "source": [
    "# 4.3 Caso C: targets sin IDs, se asignan por orden\n",
    "target_list = raw_labels[\"target\"]\n",
    "\n",
    "if isinstance(target_list, list) and len(target_list) < df_transacciones.shape[0]:\n",
    "    n = len(target_list)\n",
    "    print(f\"✅ raw_labels corresponde a las primeras {n} filas de df_transacciones\")\n",
    "\n",
    "    # Dividir en conjunto etiquetado y no etiquetado\n",
    "    df_train = df_transacciones.iloc[:n].copy()\n",
    "    df_train[\"target\"] = target_list\n",
    "\n",
    "    df_test = df_transacciones.iloc[n:].copy()\n",
    "    df_test[\"target\"] = np.nan\n",
    "\n",
    "    # Concatenar ambos conjuntos\n",
    "    df_full = pd.concat([df_train, df_test], ignore_index=True)\n",
    "    print(\"✅ df_full creado exitosamente\")\n",
    "    print(\"Dimensiones de df_full:\", df_full.shape)\n",
    "\n",
    "    # Validación\n",
    "    print(\"Cantidad de targets 0:\", (df_full[\"target\"] == 0).sum())\n",
    "    print(\"Cantidad de targets 1:\", (df_full[\"target\"] == 1).sum())\n",
    "    print(\"Cantidad de targets NaN:\", df_full[\"target\"].isna().sum())\n",
    "\n",
    "    display(df_full.head())\n",
    "else:\n",
    "    print(\"❌ Estructura de raw_labels no corresponde a la esperada en el Caso C.\")\n"
   ]
  }
 ],
 "metadata": {
  "kernelspec": {
   "display_name": "base",
   "language": "python",
   "name": "python3"
  },
  "language_info": {
   "codemirror_mode": {
    "name": "ipython",
    "version": 3
   },
   "file_extension": ".py",
   "mimetype": "text/x-python",
   "name": "python",
   "nbconvert_exporter": "python",
   "pygments_lexer": "ipython3",
   "version": "3.12.4"
  }
 },
 "nbformat": 4,
 "nbformat_minor": 5
}

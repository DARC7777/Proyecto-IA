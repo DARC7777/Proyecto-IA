{
 "cells": [
  {
   "cell_type": "code",
   "execution_count": 1,
   "id": "7ebbd05c",
   "metadata": {},
   "outputs": [
    {
     "name": "stdout",
     "output_type": "stream",
     "text": [
      "Dataset successfully processed and saved to 'processed_dataset.csv'\n"
     ]
    }
   ],
   "source": [
    "import pandas as pd\n",
    "import json\n",
    "\n",
    "# --- 1. Load Data ---\n",
    "# Load CSV files\n",
    "cards_data = pd.read_csv('cards_data.csv')\n",
    "transactions_data = pd.read_csv('transactions_data.csv')\n",
    "users_data = pd.read_csv('users_data.csv')\n",
    "\n",
    "# Load and process mcc_codes.json\n",
    "with open(\"mcc_codes.json\", \"r\", encoding=\"utf-8\") as f:\n",
    "    mcc_dict = json.load(f)\n",
    "\n",
    "rows_mcc = []\n",
    "for code_str, desc in mcc_dict.items():\n",
    "    rows_mcc.append({\n",
    "        \"mcc\": int(code_str),\n",
    "        \"mcc_description\": desc\n",
    "    })\n",
    "mcc_codes_df = pd.DataFrame(rows_mcc)\n",
    "\n",
    "# Load and process train_fraud_labels.json\n",
    "with open(\"train_fraud_labels.json\", \"r\", encoding=\"utf-8\") as f:\n",
    "    labels_dict = json.load(f)\n",
    "\n",
    "inner_labels = labels_dict[\"target\"]\n",
    "rows_fraud = []\n",
    "for id_str, label_str in inner_labels.items():\n",
    "    rows_fraud.append({\n",
    "        \"id\": int(id_str),\n",
    "        \"is_fraud\": 1 if label_str.lower() == \"yes\" else 0\n",
    "    })\n",
    "fraud_labels_df = pd.DataFrame(rows_fraud)\n",
    "\n",
    "# --- 2. Merge DataFrames ---\n",
    "# Merge with mcc_codes_df (left join to keep all transactions)\n",
    "merged = transactions_data.merge(mcc_codes_df, on='mcc', how='left')\n",
    "\n",
    "# Merge with fraud_labels_df (left join, fill NaN in is_fraud with 0)\n",
    "merged = merged.merge(fraud_labels_df, on='id', how='left')\n",
    "merged['is_fraud'] = merged['is_fraud'].fillna(0).astype('int8')\n",
    "\n",
    "# Merge with users_data using INNER JOIN (only transactions with associated user)\n",
    "# Note: The original code merges on 'client_id' from 'merged' and 'id' from 'users_data'\n",
    "# and then suffixes the 'id' column from users_data as 'id_user'.\n",
    "merged = merged.merge(users_data, left_on='client_id', right_on='id', how='inner', suffixes=('', '_user'))\n",
    "\n",
    "# --- 3. Reduce Dataset Size (as per original notebook's intent for training) ---\n",
    "# Separate fraud and non-fraud rows\n",
    "fraud_df = merged[merged['is_fraud'] == 1]\n",
    "nonfraud_df = merged[merged['is_fraud'] == 0]\n",
    "\n",
    "# Calculate number of non-fraud samples needed to reach 1 million total rows\n",
    "num_fraud = len(fraud_df)\n",
    "target_total = 1_000_000\n",
    "num_to_sample = target_total - num_fraud\n",
    "\n",
    "# Randomly sample non-fraud rows\n",
    "sampled_nonfraud = nonfraud_df.sample(n=num_to_sample, random_state=42)\n",
    "\n",
    "# Concatenate all fraud records with the sampled non-fraud records\n",
    "reduced_df = pd.concat([fraud_df, sampled_nonfraud])\n",
    "\n",
    "# Shuffle the resulting DataFrame to prevent ordering bias\n",
    "merged = reduced_df.sample(frac=1, random_state=42).reset_index(drop=True)\n",
    "\n",
    "# --- 4. Data Cleaning and Feature Engineering ---\n",
    "# Clean monetary columns: remove '$' and ',' and convert to float\n",
    "for col in ['amount', 'per_capita_income', 'yearly_income', 'total_debt']:\n",
    "    # Ensure column is string type before replacement to avoid errors with non-string types\n",
    "    merged[col] = merged[col].astype(str).str.replace(r'[\\$,]', '', regex=True)\n",
    "    merged[col] = pd.to_numeric(merged[col], errors='coerce') # 'coerce' will turn unparseable values into NaN\n",
    "\n",
    "# Convert 'date' to datetime and create new time-based features\n",
    "merged['date'] = pd.to_datetime(merged['date'], format='%Y-%m-%d %H:%M:%S')\n",
    "\n",
    "# Hour of the day\n",
    "merged['hour'] = merged['date'].dt.hour\n",
    "\n",
    "# Day of the week (0 = Monday, 6 = Sunday)\n",
    "merged['weekday'] = merged['date'].dt.weekday\n",
    "\n",
    "# Weekend indicator (1 = Saturday/Sunday, 0 = otherwise)\n",
    "merged['is_weekend'] = merged['weekday'].isin([5, 6]).astype(int)\n",
    "\n",
    "# Month of the year\n",
    "merged['month'] = merged['date'].dt.month\n",
    "\n",
    "# Night transaction indicator (< 6 AM or > 10 PM)\n",
    "merged['is_night'] = merged['hour'].apply(lambda x: 1 if (x < 6 or x > 22) else 0)\n",
    "\n",
    "# --- 5. Export Processed Dataset to CSV ---\n",
    "# The 'id' column from users_data was renamed to 'id_user' during merge\n",
    "# The original 'id' column refers to transaction ID.\n",
    "# Drop redundant ID columns if not needed for training, or keep as per user requirement.\n",
    "# For a clean training dataset, it's often good to keep only relevant features.\n",
    "# I'll keep both 'id' (transaction) and 'id_user' for traceability.\n",
    "output_columns = [col for col in merged.columns if col not in ['date']] # Remove original 'date' column as features derived from it are created\n",
    "\n",
    "# Save the processed DataFrame to a CSV file\n",
    "merged[output_columns].to_csv('processed_dataset.csv', index=False)\n",
    "\n",
    "print(\"Dataset successfully processed and saved to 'processed_dataset.csv'\")\n"
   ]
  },
  {
   "cell_type": "code",
   "execution_count": 5,
   "id": "710cc7ce",
   "metadata": {},
   "outputs": [
    {
     "data": {
      "text/plain": [
       "Index(['id', 'date', 'client_id', 'card_id', 'amount', 'use_chip',\n",
       "       'merchant_id', 'merchant_city', 'merchant_state', 'zip', 'mcc',\n",
       "       'errors', 'mcc_description', 'is_fraud', 'id_user', 'current_age',\n",
       "       'retirement_age', 'birth_year', 'birth_month', 'gender', 'address',\n",
       "       'latitude', 'longitude', 'per_capita_income', 'yearly_income',\n",
       "       'total_debt', 'credit_score', 'num_credit_cards', 'hour', 'weekday',\n",
       "       'is_weekend', 'month', 'is_night'],\n",
       "      dtype='object')"
      ]
     },
     "execution_count": 5,
     "metadata": {},
     "output_type": "execute_result"
    }
   ],
   "source": [
    "merged.columns"
   ]
  }
 ],
 "metadata": {
  "kernelspec": {
   "display_name": "Python 3",
   "language": "python",
   "name": "python3"
  },
  "language_info": {
   "codemirror_mode": {
    "name": "ipython",
    "version": 3
   },
   "file_extension": ".py",
   "mimetype": "text/x-python",
   "name": "python",
   "nbconvert_exporter": "python",
   "pygments_lexer": "ipython3",
   "version": "3.11.9"
  }
 },
 "nbformat": 4,
 "nbformat_minor": 5
}
